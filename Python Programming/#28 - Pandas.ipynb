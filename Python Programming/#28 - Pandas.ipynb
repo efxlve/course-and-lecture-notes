{
 "cells": [
  {
   "cell_type": "code",
   "execution_count": 1,
   "id": "732f8e34",
   "metadata": {},
   "outputs": [],
   "source": [
    "import pandas as pd\n",
    "import numpy as np"
   ]
  },
  {
   "cell_type": "code",
   "execution_count": 2,
   "id": "c3d4f827",
   "metadata": {},
   "outputs": [],
   "source": [
    "#series"
   ]
  },
  {
   "cell_type": "code",
   "execution_count": 3,
   "id": "04c1b75f",
   "metadata": {},
   "outputs": [],
   "source": [
    "my_dict = {\"James\": 50, \"Lars\": 60, \"Kirk\": 55, \"Rob\": 65}"
   ]
  },
  {
   "cell_type": "code",
   "execution_count": 4,
   "id": "00b523e2",
   "metadata": {},
   "outputs": [
    {
     "data": {
      "text/plain": [
       "James    50\n",
       "Lars     60\n",
       "Kirk     55\n",
       "Rob      65\n",
       "dtype: int64"
      ]
     },
     "execution_count": 4,
     "metadata": {},
     "output_type": "execute_result"
    }
   ],
   "source": [
    "pd.Series(my_dict)"
   ]
  },
  {
   "cell_type": "code",
   "execution_count": 5,
   "id": "bdbefb64",
   "metadata": {},
   "outputs": [],
   "source": [
    "age_list = [50,60,55,65]\n",
    "name_list = [\"James\", \"Lars\", \"Kirk\", \"Rob\"]"
   ]
  },
  {
   "cell_type": "code",
   "execution_count": 6,
   "id": "0192da1d",
   "metadata": {},
   "outputs": [
    {
     "data": {
      "text/plain": [
       "James    50\n",
       "Lars     60\n",
       "Kirk     55\n",
       "Rob      65\n",
       "dtype: int64"
      ]
     },
     "execution_count": 6,
     "metadata": {},
     "output_type": "execute_result"
    }
   ],
   "source": [
    "pd.Series(age_list, name_list)"
   ]
  },
  {
   "cell_type": "code",
   "execution_count": 8,
   "id": "3aeb9ceb",
   "metadata": {},
   "outputs": [
    {
     "data": {
      "text/plain": [
       "James    50\n",
       "Lars     60\n",
       "Kirk     55\n",
       "Rob      65\n",
       "dtype: int64"
      ]
     },
     "execution_count": 8,
     "metadata": {},
     "output_type": "execute_result"
    }
   ],
   "source": [
    "pd.Series(data=age_list, index=name_list)"
   ]
  },
  {
   "cell_type": "code",
   "execution_count": 9,
   "id": "cd491531",
   "metadata": {},
   "outputs": [],
   "source": [
    "numpy_array = np.arange(0,8)"
   ]
  },
  {
   "cell_type": "code",
   "execution_count": 10,
   "id": "a3c6b41b",
   "metadata": {},
   "outputs": [
    {
     "data": {
      "text/plain": [
       "array([0, 1, 2, 3, 4, 5, 6, 7])"
      ]
     },
     "execution_count": 10,
     "metadata": {},
     "output_type": "execute_result"
    }
   ],
   "source": [
    "numpy_array"
   ]
  },
  {
   "cell_type": "code",
   "execution_count": 11,
   "id": "15772a9d",
   "metadata": {},
   "outputs": [
    {
     "data": {
      "text/plain": [
       "0    0\n",
       "1    1\n",
       "2    2\n",
       "3    3\n",
       "4    4\n",
       "5    5\n",
       "6    6\n",
       "7    7\n",
       "dtype: int32"
      ]
     },
     "execution_count": 11,
     "metadata": {},
     "output_type": "execute_result"
    }
   ],
   "source": [
    "pd.Series(numpy_array)"
   ]
  },
  {
   "cell_type": "code",
   "execution_count": 12,
   "id": "61fa791a",
   "metadata": {},
   "outputs": [],
   "source": [
    "new_numpy_array = np.array([10,20,30,40])"
   ]
  },
  {
   "cell_type": "code",
   "execution_count": 13,
   "id": "0aa1e6b4",
   "metadata": {},
   "outputs": [
    {
     "data": {
      "text/plain": [
       "0    10\n",
       "1    20\n",
       "2    30\n",
       "3    40\n",
       "dtype: int32"
      ]
     },
     "execution_count": 13,
     "metadata": {},
     "output_type": "execute_result"
    }
   ],
   "source": [
    "pd.Series(new_numpy_array)"
   ]
  },
  {
   "cell_type": "code",
   "execution_count": 14,
   "id": "28afb9a5",
   "metadata": {},
   "outputs": [
    {
     "data": {
      "text/plain": [
       "array([10, 20, 30, 40])"
      ]
     },
     "execution_count": 14,
     "metadata": {},
     "output_type": "execute_result"
    }
   ],
   "source": [
    "new_numpy_array"
   ]
  },
  {
   "cell_type": "code",
   "execution_count": 15,
   "id": "f690c432",
   "metadata": {},
   "outputs": [
    {
     "data": {
      "text/plain": [
       "['James', 'Lars', 'Kirk', 'Rob']"
      ]
     },
     "execution_count": 15,
     "metadata": {},
     "output_type": "execute_result"
    }
   ],
   "source": [
    "name_list"
   ]
  },
  {
   "cell_type": "code",
   "execution_count": 16,
   "id": "c4aee132",
   "metadata": {},
   "outputs": [
    {
     "data": {
      "text/plain": [
       "James    10\n",
       "Lars     20\n",
       "Kirk     30\n",
       "Rob      40\n",
       "dtype: int32"
      ]
     },
     "execution_count": 16,
     "metadata": {},
     "output_type": "execute_result"
    }
   ],
   "source": [
    "pd.Series(data=new_numpy_array, index=name_list)"
   ]
  },
  {
   "cell_type": "code",
   "execution_count": 17,
   "id": "b72d6068",
   "metadata": {},
   "outputs": [],
   "source": [
    "my_series = pd.Series(data=new_numpy_array, index=name_list)"
   ]
  },
  {
   "cell_type": "code",
   "execution_count": 18,
   "id": "023818a6",
   "metadata": {},
   "outputs": [
    {
     "data": {
      "text/plain": [
       "James    10\n",
       "Lars     20\n",
       "Kirk     30\n",
       "Rob      40\n",
       "dtype: int32"
      ]
     },
     "execution_count": 18,
     "metadata": {},
     "output_type": "execute_result"
    }
   ],
   "source": [
    "my_series"
   ]
  },
  {
   "cell_type": "code",
   "execution_count": 19,
   "id": "910e3971",
   "metadata": {},
   "outputs": [
    {
     "data": {
      "text/plain": [
       "pandas.core.series.Series"
      ]
     },
     "execution_count": 19,
     "metadata": {},
     "output_type": "execute_result"
    }
   ],
   "source": [
    "type(my_series)"
   ]
  },
  {
   "cell_type": "code",
   "execution_count": 20,
   "id": "2a993f7c",
   "metadata": {},
   "outputs": [
    {
     "data": {
      "text/plain": [
       "30"
      ]
     },
     "execution_count": 20,
     "metadata": {},
     "output_type": "execute_result"
    }
   ],
   "source": [
    "my_series[\"Kirk\"]"
   ]
  },
  {
   "cell_type": "code",
   "execution_count": 21,
   "id": "671f6755",
   "metadata": {},
   "outputs": [],
   "source": [
    "my_series[\"Kirk\"] = 60"
   ]
  },
  {
   "cell_type": "code",
   "execution_count": 22,
   "id": "d21f977d",
   "metadata": {},
   "outputs": [
    {
     "data": {
      "text/plain": [
       "James    10\n",
       "Lars     20\n",
       "Kirk     60\n",
       "Rob      40\n",
       "dtype: int32"
      ]
     },
     "execution_count": 22,
     "metadata": {},
     "output_type": "execute_result"
    }
   ],
   "source": [
    "my_series"
   ]
  },
  {
   "cell_type": "code",
   "execution_count": 23,
   "id": "5b01827c",
   "metadata": {},
   "outputs": [],
   "source": [
    "quiz_results = pd.Series(data=[70,60,100], index=[\"A\",\"B\",\"C\"])"
   ]
  },
  {
   "cell_type": "code",
   "execution_count": 24,
   "id": "79a48b8d",
   "metadata": {},
   "outputs": [],
   "source": [
    "quiz_results2 = pd.Series(data=[80,30,50], index=[\"A\",\"B\",\"C\"])"
   ]
  },
  {
   "cell_type": "code",
   "execution_count": 25,
   "id": "b4cd073a",
   "metadata": {},
   "outputs": [
    {
     "data": {
      "text/plain": [
       "A     70\n",
       "B     60\n",
       "C    100\n",
       "dtype: int64"
      ]
     },
     "execution_count": 25,
     "metadata": {},
     "output_type": "execute_result"
    }
   ],
   "source": [
    "quiz_results"
   ]
  },
  {
   "cell_type": "code",
   "execution_count": 26,
   "id": "45f9485a",
   "metadata": {},
   "outputs": [
    {
     "data": {
      "text/plain": [
       "A    80\n",
       "B    30\n",
       "C    50\n",
       "dtype: int64"
      ]
     },
     "execution_count": 26,
     "metadata": {},
     "output_type": "execute_result"
    }
   ],
   "source": [
    "quiz_results2"
   ]
  },
  {
   "cell_type": "code",
   "execution_count": 27,
   "id": "3d48786e",
   "metadata": {},
   "outputs": [
    {
     "data": {
      "text/plain": [
       "A    150\n",
       "B     90\n",
       "C    150\n",
       "dtype: int64"
      ]
     },
     "execution_count": 27,
     "metadata": {},
     "output_type": "execute_result"
    }
   ],
   "source": [
    "quiz_results + quiz_results2"
   ]
  },
  {
   "cell_type": "code",
   "execution_count": 28,
   "id": "0c9423b6",
   "metadata": {},
   "outputs": [],
   "source": [
    "exam_results = pd.Series(data=[70,60,100], index=[\"A\",\"B\",\"C\"])"
   ]
  },
  {
   "cell_type": "code",
   "execution_count": 29,
   "id": "17c7eeb4",
   "metadata": {},
   "outputs": [],
   "source": [
    "exam_results2 = pd.Series(data=[80,30,50], index=[\"A\",\"D\",\"C\"])"
   ]
  },
  {
   "cell_type": "code",
   "execution_count": 30,
   "id": "0076dffa",
   "metadata": {},
   "outputs": [
    {
     "data": {
      "text/plain": [
       "A    150.0\n",
       "B      NaN\n",
       "C    150.0\n",
       "D      NaN\n",
       "dtype: float64"
      ]
     },
     "execution_count": 30,
     "metadata": {},
     "output_type": "execute_result"
    }
   ],
   "source": [
    "exam_results + exam_results2"
   ]
  },
  {
   "cell_type": "code",
   "execution_count": null,
   "id": "316648c9",
   "metadata": {},
   "outputs": [],
   "source": []
  }
 ],
 "metadata": {
  "kernelspec": {
   "display_name": "Python 3 (ipykernel)",
   "language": "python",
   "name": "python3"
  },
  "language_info": {
   "codemirror_mode": {
    "name": "ipython",
    "version": 3
   },
   "file_extension": ".py",
   "mimetype": "text/x-python",
   "name": "python",
   "nbconvert_exporter": "python",
   "pygments_lexer": "ipython3",
   "version": "3.11.4"
  }
 },
 "nbformat": 4,
 "nbformat_minor": 5
}
