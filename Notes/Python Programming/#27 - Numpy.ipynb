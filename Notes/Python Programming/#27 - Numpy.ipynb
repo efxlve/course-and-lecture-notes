{
 "cells": [
  {
   "cell_type": "code",
   "execution_count": 1,
   "id": "ff1bc19f",
   "metadata": {},
   "outputs": [],
   "source": [
    "#conda install numpy"
   ]
  },
  {
   "cell_type": "code",
   "execution_count": 2,
   "id": "994c2b03",
   "metadata": {},
   "outputs": [],
   "source": [
    "import numpy as np"
   ]
  },
  {
   "cell_type": "code",
   "execution_count": 3,
   "id": "0912938a",
   "metadata": {},
   "outputs": [],
   "source": [
    "#numpy array"
   ]
  },
  {
   "cell_type": "code",
   "execution_count": 4,
   "id": "3cb922b7",
   "metadata": {},
   "outputs": [],
   "source": [
    "my_list = [10,20,30,40]"
   ]
  },
  {
   "cell_type": "code",
   "execution_count": 5,
   "id": "43d6811a",
   "metadata": {},
   "outputs": [
    {
     "data": {
      "text/plain": [
       "list"
      ]
     },
     "execution_count": 5,
     "metadata": {},
     "output_type": "execute_result"
    }
   ],
   "source": [
    "type(my_list)"
   ]
  },
  {
   "cell_type": "code",
   "execution_count": 6,
   "id": "be83bede",
   "metadata": {},
   "outputs": [
    {
     "data": {
      "text/plain": [
       "array([10, 20, 30, 40])"
      ]
     },
     "execution_count": 6,
     "metadata": {},
     "output_type": "execute_result"
    }
   ],
   "source": [
    "np.array(my_list)"
   ]
  },
  {
   "cell_type": "code",
   "execution_count": 7,
   "id": "2943d83d",
   "metadata": {},
   "outputs": [],
   "source": [
    "my_numpy_array = np.array(my_list)"
   ]
  },
  {
   "cell_type": "code",
   "execution_count": 8,
   "id": "4a2f5232",
   "metadata": {},
   "outputs": [
    {
     "data": {
      "text/plain": [
       "numpy.ndarray"
      ]
     },
     "execution_count": 8,
     "metadata": {},
     "output_type": "execute_result"
    }
   ],
   "source": [
    "type(my_numpy_array)"
   ]
  },
  {
   "cell_type": "code",
   "execution_count": 9,
   "id": "1ea945c1",
   "metadata": {},
   "outputs": [
    {
     "data": {
      "text/plain": [
       "array([10, 20, 30, 40])"
      ]
     },
     "execution_count": 9,
     "metadata": {},
     "output_type": "execute_result"
    }
   ],
   "source": [
    "my_numpy_array"
   ]
  },
  {
   "cell_type": "code",
   "execution_count": 10,
   "id": "b372d5a0",
   "metadata": {},
   "outputs": [
    {
     "data": {
      "text/plain": [
       "10"
      ]
     },
     "execution_count": 10,
     "metadata": {},
     "output_type": "execute_result"
    }
   ],
   "source": [
    "my_numpy_array[0]"
   ]
  },
  {
   "cell_type": "code",
   "execution_count": 11,
   "id": "722a6f3e",
   "metadata": {},
   "outputs": [
    {
     "data": {
      "text/plain": [
       "40"
      ]
     },
     "execution_count": 11,
     "metadata": {},
     "output_type": "execute_result"
    }
   ],
   "source": [
    "my_numpy_array[-1]"
   ]
  },
  {
   "cell_type": "code",
   "execution_count": 13,
   "id": "38a3cbf1",
   "metadata": {},
   "outputs": [],
   "source": [
    "my_numpy_array[0] = 100"
   ]
  },
  {
   "cell_type": "code",
   "execution_count": 14,
   "id": "1dbc6641",
   "metadata": {},
   "outputs": [
    {
     "data": {
      "text/plain": [
       "array([100,  20,  30,  40])"
      ]
     },
     "execution_count": 14,
     "metadata": {},
     "output_type": "execute_result"
    }
   ],
   "source": [
    "my_numpy_array"
   ]
  },
  {
   "cell_type": "code",
   "execution_count": 15,
   "id": "79450cd8",
   "metadata": {},
   "outputs": [
    {
     "data": {
      "text/plain": [
       "100"
      ]
     },
     "execution_count": 15,
     "metadata": {},
     "output_type": "execute_result"
    }
   ],
   "source": [
    "my_numpy_array.max()"
   ]
  },
  {
   "cell_type": "code",
   "execution_count": 16,
   "id": "8c3a9a67",
   "metadata": {},
   "outputs": [
    {
     "data": {
      "text/plain": [
       "20"
      ]
     },
     "execution_count": 16,
     "metadata": {},
     "output_type": "execute_result"
    }
   ],
   "source": [
    "my_numpy_array.min()"
   ]
  },
  {
   "cell_type": "code",
   "execution_count": 17,
   "id": "5486dc3c",
   "metadata": {},
   "outputs": [
    {
     "data": {
      "text/plain": [
       "47.5"
      ]
     },
     "execution_count": 17,
     "metadata": {},
     "output_type": "execute_result"
    }
   ],
   "source": [
    "my_numpy_array.mean()"
   ]
  },
  {
   "cell_type": "code",
   "execution_count": 18,
   "id": "fca04e81",
   "metadata": {},
   "outputs": [],
   "source": [
    "matrix_list = [[1,0,0],[0,1,0],[0,0,1],[0,0,0]]"
   ]
  },
  {
   "cell_type": "code",
   "execution_count": 19,
   "id": "4694fab4",
   "metadata": {},
   "outputs": [
    {
     "data": {
      "text/plain": [
       "list"
      ]
     },
     "execution_count": 19,
     "metadata": {},
     "output_type": "execute_result"
    }
   ],
   "source": [
    "type(matrix_list)"
   ]
  },
  {
   "cell_type": "code",
   "execution_count": 20,
   "id": "c0364233",
   "metadata": {},
   "outputs": [
    {
     "data": {
      "text/plain": [
       "1"
      ]
     },
     "execution_count": 20,
     "metadata": {},
     "output_type": "execute_result"
    }
   ],
   "source": [
    "matrix_list[0][0]"
   ]
  },
  {
   "cell_type": "code",
   "execution_count": 22,
   "id": "1ef19ad5",
   "metadata": {},
   "outputs": [],
   "source": [
    "numpy_matrix_list = np.array(matrix_list)"
   ]
  },
  {
   "cell_type": "code",
   "execution_count": 24,
   "id": "0eda1b48",
   "metadata": {},
   "outputs": [
    {
     "data": {
      "text/plain": [
       "1"
      ]
     },
     "execution_count": 24,
     "metadata": {},
     "output_type": "execute_result"
    }
   ],
   "source": [
    "numpy_matrix_list[0][0]"
   ]
  },
  {
   "cell_type": "code",
   "execution_count": 25,
   "id": "9a40aff5",
   "metadata": {},
   "outputs": [
    {
     "data": {
      "text/plain": [
       "array([[1, 0, 0],\n",
       "       [0, 1, 0],\n",
       "       [0, 0, 1],\n",
       "       [0, 0, 0]])"
      ]
     },
     "execution_count": 25,
     "metadata": {},
     "output_type": "execute_result"
    }
   ],
   "source": [
    "numpy_matrix_list"
   ]
  },
  {
   "cell_type": "code",
   "execution_count": 26,
   "id": "b9bc75ef",
   "metadata": {},
   "outputs": [
    {
     "data": {
      "text/plain": [
       "(4, 3)"
      ]
     },
     "execution_count": 26,
     "metadata": {},
     "output_type": "execute_result"
    }
   ],
   "source": [
    "numpy_matrix_list.shape"
   ]
  },
  {
   "cell_type": "code",
   "execution_count": 27,
   "id": "4dd5274a",
   "metadata": {},
   "outputs": [],
   "source": [
    "#arange"
   ]
  },
  {
   "cell_type": "code",
   "execution_count": 28,
   "id": "c71c8312",
   "metadata": {},
   "outputs": [
    {
     "data": {
      "text/plain": [
       "range(0, 10)"
      ]
     },
     "execution_count": 28,
     "metadata": {},
     "output_type": "execute_result"
    }
   ],
   "source": [
    "range(0,10)"
   ]
  },
  {
   "cell_type": "code",
   "execution_count": 29,
   "id": "cde38c1f",
   "metadata": {},
   "outputs": [
    {
     "data": {
      "text/plain": [
       "[0, 1, 2, 3, 4, 5, 6, 7, 8, 9]"
      ]
     },
     "execution_count": 29,
     "metadata": {},
     "output_type": "execute_result"
    }
   ],
   "source": [
    "list(range(0, 10))"
   ]
  },
  {
   "cell_type": "code",
   "execution_count": 30,
   "id": "1553498d",
   "metadata": {},
   "outputs": [
    {
     "data": {
      "text/plain": [
       "array([0, 1, 2, 3, 4, 5, 6, 7, 8, 9])"
      ]
     },
     "execution_count": 30,
     "metadata": {},
     "output_type": "execute_result"
    }
   ],
   "source": [
    "np.arange(0,10)"
   ]
  },
  {
   "cell_type": "code",
   "execution_count": 31,
   "id": "f0eadcfe",
   "metadata": {},
   "outputs": [
    {
     "data": {
      "text/plain": [
       "array([ 0,  2,  4,  6,  8, 10, 12, 14, 16, 18, 20, 22, 24, 26, 28])"
      ]
     },
     "execution_count": 31,
     "metadata": {},
     "output_type": "execute_result"
    }
   ],
   "source": [
    "np.arange(0,30,2)"
   ]
  },
  {
   "cell_type": "code",
   "execution_count": 33,
   "id": "bf7681eb",
   "metadata": {},
   "outputs": [
    {
     "data": {
      "text/plain": [
       "array([0., 0., 0., 0., 0., 0., 0., 0., 0., 0.])"
      ]
     },
     "execution_count": 33,
     "metadata": {},
     "output_type": "execute_result"
    }
   ],
   "source": [
    "np.zeros(10)"
   ]
  },
  {
   "cell_type": "code",
   "execution_count": 34,
   "id": "95dee48e",
   "metadata": {},
   "outputs": [
    {
     "data": {
      "text/plain": [
       "array([[0., 0., 0., 0., 0., 0., 0., 0., 0., 0.],\n",
       "       [0., 0., 0., 0., 0., 0., 0., 0., 0., 0.],\n",
       "       [0., 0., 0., 0., 0., 0., 0., 0., 0., 0.],\n",
       "       [0., 0., 0., 0., 0., 0., 0., 0., 0., 0.],\n",
       "       [0., 0., 0., 0., 0., 0., 0., 0., 0., 0.],\n",
       "       [0., 0., 0., 0., 0., 0., 0., 0., 0., 0.],\n",
       "       [0., 0., 0., 0., 0., 0., 0., 0., 0., 0.],\n",
       "       [0., 0., 0., 0., 0., 0., 0., 0., 0., 0.],\n",
       "       [0., 0., 0., 0., 0., 0., 0., 0., 0., 0.],\n",
       "       [0., 0., 0., 0., 0., 0., 0., 0., 0., 0.]])"
      ]
     },
     "execution_count": 34,
     "metadata": {},
     "output_type": "execute_result"
    }
   ],
   "source": [
    "np.zeros((10,10))"
   ]
  },
  {
   "cell_type": "code",
   "execution_count": 35,
   "id": "18ae7d4c",
   "metadata": {},
   "outputs": [
    {
     "data": {
      "text/plain": [
       "array([[1., 1., 1., 1., 1., 1., 1., 1., 1., 1.],\n",
       "       [1., 1., 1., 1., 1., 1., 1., 1., 1., 1.],\n",
       "       [1., 1., 1., 1., 1., 1., 1., 1., 1., 1.],\n",
       "       [1., 1., 1., 1., 1., 1., 1., 1., 1., 1.],\n",
       "       [1., 1., 1., 1., 1., 1., 1., 1., 1., 1.],\n",
       "       [1., 1., 1., 1., 1., 1., 1., 1., 1., 1.],\n",
       "       [1., 1., 1., 1., 1., 1., 1., 1., 1., 1.],\n",
       "       [1., 1., 1., 1., 1., 1., 1., 1., 1., 1.],\n",
       "       [1., 1., 1., 1., 1., 1., 1., 1., 1., 1.],\n",
       "       [1., 1., 1., 1., 1., 1., 1., 1., 1., 1.]])"
      ]
     },
     "execution_count": 35,
     "metadata": {},
     "output_type": "execute_result"
    }
   ],
   "source": [
    "np.ones((10,10))"
   ]
  },
  {
   "cell_type": "code",
   "execution_count": 36,
   "id": "7291cf63",
   "metadata": {},
   "outputs": [],
   "source": [
    "#linspace"
   ]
  },
  {
   "cell_type": "code",
   "execution_count": 38,
   "id": "e4ab9bf8",
   "metadata": {},
   "outputs": [
    {
     "data": {
      "text/plain": [
       "array([ 0.        ,  0.1010101 ,  0.2020202 ,  0.3030303 ,  0.4040404 ,\n",
       "        0.50505051,  0.60606061,  0.70707071,  0.80808081,  0.90909091,\n",
       "        1.01010101,  1.11111111,  1.21212121,  1.31313131,  1.41414141,\n",
       "        1.51515152,  1.61616162,  1.71717172,  1.81818182,  1.91919192,\n",
       "        2.02020202,  2.12121212,  2.22222222,  2.32323232,  2.42424242,\n",
       "        2.52525253,  2.62626263,  2.72727273,  2.82828283,  2.92929293,\n",
       "        3.03030303,  3.13131313,  3.23232323,  3.33333333,  3.43434343,\n",
       "        3.53535354,  3.63636364,  3.73737374,  3.83838384,  3.93939394,\n",
       "        4.04040404,  4.14141414,  4.24242424,  4.34343434,  4.44444444,\n",
       "        4.54545455,  4.64646465,  4.74747475,  4.84848485,  4.94949495,\n",
       "        5.05050505,  5.15151515,  5.25252525,  5.35353535,  5.45454545,\n",
       "        5.55555556,  5.65656566,  5.75757576,  5.85858586,  5.95959596,\n",
       "        6.06060606,  6.16161616,  6.26262626,  6.36363636,  6.46464646,\n",
       "        6.56565657,  6.66666667,  6.76767677,  6.86868687,  6.96969697,\n",
       "        7.07070707,  7.17171717,  7.27272727,  7.37373737,  7.47474747,\n",
       "        7.57575758,  7.67676768,  7.77777778,  7.87878788,  7.97979798,\n",
       "        8.08080808,  8.18181818,  8.28282828,  8.38383838,  8.48484848,\n",
       "        8.58585859,  8.68686869,  8.78787879,  8.88888889,  8.98989899,\n",
       "        9.09090909,  9.19191919,  9.29292929,  9.39393939,  9.49494949,\n",
       "        9.5959596 ,  9.6969697 ,  9.7979798 ,  9.8989899 , 10.        ])"
      ]
     },
     "execution_count": 38,
     "metadata": {},
     "output_type": "execute_result"
    }
   ],
   "source": [
    "np.linspace(0,10,100)"
   ]
  },
  {
   "cell_type": "code",
   "execution_count": 39,
   "id": "cdae6589",
   "metadata": {},
   "outputs": [],
   "source": [
    "#random"
   ]
  },
  {
   "cell_type": "code",
   "execution_count": 41,
   "id": "91a23f24",
   "metadata": {},
   "outputs": [
    {
     "data": {
      "text/plain": [
       "array([6, 5, 4])"
      ]
     },
     "execution_count": 41,
     "metadata": {},
     "output_type": "execute_result"
    }
   ],
   "source": [
    "np.random.randint(1,10,3)"
   ]
  },
  {
   "cell_type": "code",
   "execution_count": 42,
   "id": "61136d08",
   "metadata": {},
   "outputs": [
    {
     "data": {
      "text/plain": [
       "33"
      ]
     },
     "execution_count": 42,
     "metadata": {},
     "output_type": "execute_result"
    }
   ],
   "source": [
    "np.random.randint(1,100)"
   ]
  },
  {
   "cell_type": "code",
   "execution_count": 43,
   "id": "74b02b7d",
   "metadata": {},
   "outputs": [
    {
     "data": {
      "text/plain": [
       "array([40, 10, 54, 64, 63, 61, 46, 77, 29, 31])"
      ]
     },
     "execution_count": 43,
     "metadata": {},
     "output_type": "execute_result"
    }
   ],
   "source": [
    "np.random.randint(1,100,10)"
   ]
  },
  {
   "cell_type": "code",
   "execution_count": 44,
   "id": "93508875",
   "metadata": {},
   "outputs": [],
   "source": [
    "#numpy arrays methods"
   ]
  },
  {
   "cell_type": "code",
   "execution_count": 45,
   "id": "3349a706",
   "metadata": {},
   "outputs": [],
   "source": [
    "my_numpy_list = np.arange(0,20)"
   ]
  },
  {
   "cell_type": "code",
   "execution_count": 46,
   "id": "4bb15fa4",
   "metadata": {},
   "outputs": [
    {
     "data": {
      "text/plain": [
       "array([ 0,  1,  2,  3,  4,  5,  6,  7,  8,  9, 10, 11, 12, 13, 14, 15, 16,\n",
       "       17, 18, 19])"
      ]
     },
     "execution_count": 46,
     "metadata": {},
     "output_type": "execute_result"
    }
   ],
   "source": [
    "my_numpy_list"
   ]
  },
  {
   "cell_type": "code",
   "execution_count": 48,
   "id": "203900a8",
   "metadata": {},
   "outputs": [
    {
     "data": {
      "text/plain": [
       "4"
      ]
     },
     "execution_count": 48,
     "metadata": {},
     "output_type": "execute_result"
    }
   ],
   "source": [
    "my_numpy_list[4]"
   ]
  },
  {
   "cell_type": "code",
   "execution_count": 49,
   "id": "f980dda7",
   "metadata": {},
   "outputs": [
    {
     "data": {
      "text/plain": [
       "array([4, 5, 6, 7, 8])"
      ]
     },
     "execution_count": 49,
     "metadata": {},
     "output_type": "execute_result"
    }
   ],
   "source": [
    "my_numpy_list[4:9]"
   ]
  },
  {
   "cell_type": "code",
   "execution_count": 50,
   "id": "b9a7243c",
   "metadata": {},
   "outputs": [
    {
     "data": {
      "text/plain": [
       "array([4, 6, 8])"
      ]
     },
     "execution_count": 50,
     "metadata": {},
     "output_type": "execute_result"
    }
   ],
   "source": [
    "my_numpy_list[4:9:2]"
   ]
  },
  {
   "cell_type": "code",
   "execution_count": 51,
   "id": "64def152",
   "metadata": {},
   "outputs": [],
   "source": [
    "my_list = list(range(0,20))"
   ]
  },
  {
   "cell_type": "code",
   "execution_count": 52,
   "id": "40562037",
   "metadata": {},
   "outputs": [
    {
     "data": {
      "text/plain": [
       "[4, 6, 8]"
      ]
     },
     "execution_count": 52,
     "metadata": {},
     "output_type": "execute_result"
    }
   ],
   "source": [
    "my_list[4:9:2]"
   ]
  },
  {
   "cell_type": "code",
   "execution_count": 53,
   "id": "72853c4f",
   "metadata": {},
   "outputs": [],
   "source": [
    "#my_list[4:9] = -10"
   ]
  },
  {
   "cell_type": "code",
   "execution_count": 54,
   "id": "2b30a7bd",
   "metadata": {},
   "outputs": [],
   "source": [
    "my_numpy_list[4:9] = -10"
   ]
  },
  {
   "cell_type": "code",
   "execution_count": 55,
   "id": "eb9abd7f",
   "metadata": {},
   "outputs": [
    {
     "data": {
      "text/plain": [
       "array([  0,   1,   2,   3, -10, -10, -10, -10, -10,   9,  10,  11,  12,\n",
       "        13,  14,  15,  16,  17,  18,  19])"
      ]
     },
     "execution_count": 55,
     "metadata": {},
     "output_type": "execute_result"
    }
   ],
   "source": [
    "my_numpy_list"
   ]
  },
  {
   "cell_type": "code",
   "execution_count": 56,
   "id": "f3cd6911",
   "metadata": {},
   "outputs": [],
   "source": [
    "other_list = np.arange(0,15)"
   ]
  },
  {
   "cell_type": "code",
   "execution_count": 57,
   "id": "76a92e97",
   "metadata": {},
   "outputs": [
    {
     "data": {
      "text/plain": [
       "array([ 0,  1,  2,  3,  4,  5,  6,  7,  8,  9, 10, 11, 12, 13, 14])"
      ]
     },
     "execution_count": 57,
     "metadata": {},
     "output_type": "execute_result"
    }
   ],
   "source": [
    "other_list"
   ]
  },
  {
   "cell_type": "code",
   "execution_count": 59,
   "id": "d3fa4768",
   "metadata": {},
   "outputs": [
    {
     "data": {
      "text/plain": [
       "array([4, 5, 6, 7, 8, 9])"
      ]
     },
     "execution_count": 59,
     "metadata": {},
     "output_type": "execute_result"
    }
   ],
   "source": [
    "other_list[4:10]"
   ]
  },
  {
   "cell_type": "code",
   "execution_count": 60,
   "id": "c90b99cb",
   "metadata": {},
   "outputs": [],
   "source": [
    "slicing_list = other_list[4:10]"
   ]
  },
  {
   "cell_type": "code",
   "execution_count": 61,
   "id": "9a0068f4",
   "metadata": {},
   "outputs": [
    {
     "data": {
      "text/plain": [
       "array([4, 5, 6, 7, 8, 9])"
      ]
     },
     "execution_count": 61,
     "metadata": {},
     "output_type": "execute_result"
    }
   ],
   "source": [
    "slicing_list"
   ]
  },
  {
   "cell_type": "code",
   "execution_count": 63,
   "id": "562f32e0",
   "metadata": {},
   "outputs": [
    {
     "data": {
      "text/plain": [
       "array([ 0,  1,  2,  3,  4,  5,  6,  7,  8,  9, 10, 11, 12, 13, 14])"
      ]
     },
     "execution_count": 63,
     "metadata": {},
     "output_type": "execute_result"
    }
   ],
   "source": [
    "other_list"
   ]
  },
  {
   "cell_type": "code",
   "execution_count": 65,
   "id": "fea795a7",
   "metadata": {},
   "outputs": [
    {
     "data": {
      "text/plain": [
       "4"
      ]
     },
     "execution_count": 65,
     "metadata": {},
     "output_type": "execute_result"
    }
   ],
   "source": [
    "slicing_list[0]"
   ]
  },
  {
   "cell_type": "code",
   "execution_count": 67,
   "id": "59cf37bf",
   "metadata": {},
   "outputs": [],
   "source": [
    "slicing_list[:] = 100"
   ]
  },
  {
   "cell_type": "code",
   "execution_count": 68,
   "id": "52d40c70",
   "metadata": {},
   "outputs": [
    {
     "data": {
      "text/plain": [
       "array([100, 100, 100, 100, 100, 100])"
      ]
     },
     "execution_count": 68,
     "metadata": {},
     "output_type": "execute_result"
    }
   ],
   "source": [
    "slicing_list"
   ]
  },
  {
   "cell_type": "code",
   "execution_count": 69,
   "id": "1a6d588d",
   "metadata": {},
   "outputs": [
    {
     "data": {
      "text/plain": [
       "array([  0,   1,   2,   3, 100, 100, 100, 100, 100, 100,  10,  11,  12,\n",
       "        13,  14])"
      ]
     },
     "execution_count": 69,
     "metadata": {},
     "output_type": "execute_result"
    }
   ],
   "source": [
    "other_list"
   ]
  },
  {
   "cell_type": "code",
   "execution_count": 70,
   "id": "af6049d4",
   "metadata": {},
   "outputs": [
    {
     "data": {
      "text/plain": [
       "[0, 1, 2, 3, 4, 5, 6, 7, 8, 9, 10, 11, 12, 13, 14, 15, 16, 17, 18, 19]"
      ]
     },
     "execution_count": 70,
     "metadata": {},
     "output_type": "execute_result"
    }
   ],
   "source": [
    "my_list"
   ]
  },
  {
   "cell_type": "code",
   "execution_count": 71,
   "id": "b245efe3",
   "metadata": {},
   "outputs": [],
   "source": [
    "slicing_my_list = my_list[4:9]"
   ]
  },
  {
   "cell_type": "code",
   "execution_count": 72,
   "id": "2ae076d7",
   "metadata": {},
   "outputs": [
    {
     "data": {
      "text/plain": [
       "[4, 5, 6, 7, 8]"
      ]
     },
     "execution_count": 72,
     "metadata": {},
     "output_type": "execute_result"
    }
   ],
   "source": [
    "slicing_my_list"
   ]
  },
  {
   "cell_type": "code",
   "execution_count": 74,
   "id": "ea11b768",
   "metadata": {},
   "outputs": [],
   "source": [
    "slicing_my_list[0] = -100"
   ]
  },
  {
   "cell_type": "code",
   "execution_count": 75,
   "id": "8146d4c2",
   "metadata": {},
   "outputs": [],
   "source": [
    "slicing_my_list[1] = -100"
   ]
  },
  {
   "cell_type": "code",
   "execution_count": 76,
   "id": "00d6e1e8",
   "metadata": {},
   "outputs": [
    {
     "data": {
      "text/plain": [
       "[-100, -100, 6, 7, 8]"
      ]
     },
     "execution_count": 76,
     "metadata": {},
     "output_type": "execute_result"
    }
   ],
   "source": [
    "slicing_my_list"
   ]
  },
  {
   "cell_type": "code",
   "execution_count": 77,
   "id": "bb2ba23e",
   "metadata": {},
   "outputs": [
    {
     "data": {
      "text/plain": [
       "[0, 1, 2, 3, 4, 5, 6, 7, 8, 9, 10, 11, 12, 13, 14, 15, 16, 17, 18, 19]"
      ]
     },
     "execution_count": 77,
     "metadata": {},
     "output_type": "execute_result"
    }
   ],
   "source": [
    "my_list"
   ]
  },
  {
   "cell_type": "code",
   "execution_count": 78,
   "id": "a160b002",
   "metadata": {},
   "outputs": [],
   "source": [
    "numpy_list_3 = np.arange(0,20)"
   ]
  },
  {
   "cell_type": "code",
   "execution_count": 79,
   "id": "cfbad3b0",
   "metadata": {},
   "outputs": [
    {
     "data": {
      "text/plain": [
       "array([ 0,  1,  2,  3,  4,  5,  6,  7,  8,  9, 10, 11, 12, 13, 14, 15, 16,\n",
       "       17, 18, 19])"
      ]
     },
     "execution_count": 79,
     "metadata": {},
     "output_type": "execute_result"
    }
   ],
   "source": [
    "numpy_list_3"
   ]
  },
  {
   "cell_type": "code",
   "execution_count": 81,
   "id": "3d4f6134",
   "metadata": {},
   "outputs": [],
   "source": [
    "numpy_list_3_copy = numpy_list_3.copy()"
   ]
  },
  {
   "cell_type": "code",
   "execution_count": 82,
   "id": "d9b42d19",
   "metadata": {},
   "outputs": [
    {
     "data": {
      "text/plain": [
       "array([ 0,  1,  2,  3,  4,  5,  6,  7,  8,  9, 10, 11, 12, 13, 14, 15, 16,\n",
       "       17, 18, 19])"
      ]
     },
     "execution_count": 82,
     "metadata": {},
     "output_type": "execute_result"
    }
   ],
   "source": [
    "numpy_list_3_copy"
   ]
  },
  {
   "cell_type": "code",
   "execution_count": 83,
   "id": "8440d1ce",
   "metadata": {},
   "outputs": [],
   "source": [
    "slicing_3 = numpy_list_3_copy[0:9]"
   ]
  },
  {
   "cell_type": "code",
   "execution_count": 84,
   "id": "b7fb4e6c",
   "metadata": {},
   "outputs": [],
   "source": [
    "slicing_3[:] = -100"
   ]
  },
  {
   "cell_type": "code",
   "execution_count": 85,
   "id": "397699ba",
   "metadata": {},
   "outputs": [
    {
     "data": {
      "text/plain": [
       "array([-100, -100, -100, -100, -100, -100, -100, -100, -100])"
      ]
     },
     "execution_count": 85,
     "metadata": {},
     "output_type": "execute_result"
    }
   ],
   "source": [
    "slicing_3"
   ]
  },
  {
   "cell_type": "code",
   "execution_count": 86,
   "id": "cbb1819b",
   "metadata": {},
   "outputs": [
    {
     "data": {
      "text/plain": [
       "array([-100, -100, -100, -100, -100, -100, -100, -100, -100,    9,   10,\n",
       "         11,   12,   13,   14,   15,   16,   17,   18,   19])"
      ]
     },
     "execution_count": 86,
     "metadata": {},
     "output_type": "execute_result"
    }
   ],
   "source": [
    "numpy_list_3_copy"
   ]
  },
  {
   "cell_type": "code",
   "execution_count": 87,
   "id": "8dbe7029",
   "metadata": {},
   "outputs": [
    {
     "data": {
      "text/plain": [
       "array([ 0,  1,  2,  3,  4,  5,  6,  7,  8,  9, 10, 11, 12, 13, 14, 15, 16,\n",
       "       17, 18, 19])"
      ]
     },
     "execution_count": 87,
     "metadata": {},
     "output_type": "execute_result"
    }
   ],
   "source": [
    "numpy_list_3"
   ]
  },
  {
   "cell_type": "code",
   "execution_count": 88,
   "id": "750ad8f4",
   "metadata": {},
   "outputs": [],
   "source": [
    "#numpy operations with numpy arrays"
   ]
  },
  {
   "cell_type": "code",
   "execution_count": 89,
   "id": "85cc8b2b",
   "metadata": {},
   "outputs": [],
   "source": [
    "new_array = np.random.randint(1,150,25)"
   ]
  },
  {
   "cell_type": "code",
   "execution_count": 90,
   "id": "58bd927f",
   "metadata": {},
   "outputs": [
    {
     "data": {
      "text/plain": [
       "array([ 66,  83,  21,  89, 128, 149,  24,  41,  12,  29, 117,  65,  22,\n",
       "        55,  86, 129,  80, 145,  71,  55,  32,  66, 111, 133, 104])"
      ]
     },
     "execution_count": 90,
     "metadata": {},
     "output_type": "execute_result"
    }
   ],
   "source": [
    "new_array"
   ]
  },
  {
   "cell_type": "code",
   "execution_count": 91,
   "id": "b3d7acdf",
   "metadata": {},
   "outputs": [
    {
     "data": {
      "text/plain": [
       "array([ True,  True, False,  True,  True,  True, False, False, False,\n",
       "       False,  True,  True, False,  True,  True,  True,  True,  True,\n",
       "        True,  True, False,  True,  True,  True,  True])"
      ]
     },
     "execution_count": 91,
     "metadata": {},
     "output_type": "execute_result"
    }
   ],
   "source": [
    "new_array > 50"
   ]
  },
  {
   "cell_type": "code",
   "execution_count": 92,
   "id": "ca5c15d4",
   "metadata": {},
   "outputs": [],
   "source": [
    "result_array = new_array > 50"
   ]
  },
  {
   "cell_type": "code",
   "execution_count": 93,
   "id": "61a0c205",
   "metadata": {},
   "outputs": [
    {
     "data": {
      "text/plain": [
       "array([ True,  True, False,  True,  True,  True, False, False, False,\n",
       "       False,  True,  True, False,  True,  True,  True,  True,  True,\n",
       "        True,  True, False,  True,  True,  True,  True])"
      ]
     },
     "execution_count": 93,
     "metadata": {},
     "output_type": "execute_result"
    }
   ],
   "source": [
    "result_array"
   ]
  },
  {
   "cell_type": "code",
   "execution_count": 94,
   "id": "6bfe58be",
   "metadata": {},
   "outputs": [
    {
     "data": {
      "text/plain": [
       "array([ 66,  83,  21,  89, 128, 149,  24,  41,  12,  29, 117,  65,  22,\n",
       "        55,  86, 129,  80, 145,  71,  55,  32,  66, 111, 133, 104])"
      ]
     },
     "execution_count": 94,
     "metadata": {},
     "output_type": "execute_result"
    }
   ],
   "source": [
    "new_array"
   ]
  },
  {
   "cell_type": "code",
   "execution_count": 95,
   "id": "a2c6a40a",
   "metadata": {},
   "outputs": [
    {
     "data": {
      "text/plain": [
       "array([ 66,  83,  89, 128, 149, 117,  65,  55,  86, 129,  80, 145,  71,\n",
       "        55,  66, 111, 133, 104])"
      ]
     },
     "execution_count": 95,
     "metadata": {},
     "output_type": "execute_result"
    }
   ],
   "source": [
    "new_array[result_array]"
   ]
  },
  {
   "cell_type": "code",
   "execution_count": 96,
   "id": "7baa126c",
   "metadata": {},
   "outputs": [],
   "source": [
    "last_array = np.arange(0,30)"
   ]
  },
  {
   "cell_type": "code",
   "execution_count": 97,
   "id": "f7fcd330",
   "metadata": {},
   "outputs": [
    {
     "data": {
      "text/plain": [
       "array([ 0,  2,  4,  6,  8, 10, 12, 14, 16, 18, 20, 22, 24, 26, 28, 30, 32,\n",
       "       34, 36, 38, 40, 42, 44, 46, 48, 50, 52, 54, 56, 58])"
      ]
     },
     "execution_count": 97,
     "metadata": {},
     "output_type": "execute_result"
    }
   ],
   "source": [
    "last_array + last_array"
   ]
  },
  {
   "cell_type": "code",
   "execution_count": 98,
   "id": "737d2a2c",
   "metadata": {},
   "outputs": [
    {
     "data": {
      "text/plain": [
       "array([  0,   1,   4,   9,  16,  25,  36,  49,  64,  81, 100, 121, 144,\n",
       "       169, 196, 225, 256, 289, 324, 361, 400, 441, 484, 529, 576, 625,\n",
       "       676, 729, 784, 841])"
      ]
     },
     "execution_count": 98,
     "metadata": {},
     "output_type": "execute_result"
    }
   ],
   "source": [
    "last_array * last_array"
   ]
  },
  {
   "cell_type": "code",
   "execution_count": 99,
   "id": "67b5accf",
   "metadata": {},
   "outputs": [
    {
     "data": {
      "text/plain": [
       "array([0, 0, 0, 0, 0, 0, 0, 0, 0, 0, 0, 0, 0, 0, 0, 0, 0, 0, 0, 0, 0, 0,\n",
       "       0, 0, 0, 0, 0, 0, 0, 0])"
      ]
     },
     "execution_count": 99,
     "metadata": {},
     "output_type": "execute_result"
    }
   ],
   "source": [
    "last_array - last_array"
   ]
  },
  {
   "cell_type": "code",
   "execution_count": 106,
   "id": "db8302ed",
   "metadata": {},
   "outputs": [],
   "source": [
    "#last_array / last_array"
   ]
  },
  {
   "cell_type": "code",
   "execution_count": 101,
   "id": "86f20321",
   "metadata": {},
   "outputs": [
    {
     "data": {
      "text/plain": [
       "29"
      ]
     },
     "execution_count": 101,
     "metadata": {},
     "output_type": "execute_result"
    }
   ],
   "source": [
    "last_array.max()"
   ]
  },
  {
   "cell_type": "code",
   "execution_count": 102,
   "id": "b14be9d6",
   "metadata": {},
   "outputs": [
    {
     "data": {
      "text/plain": [
       "array([ 0,  1,  2,  3,  4,  5,  6,  7,  8,  9, 10, 11, 12, 13, 14, 15, 16,\n",
       "       17, 18, 19, 20, 21, 22, 23, 24, 25, 26, 27, 28, 29])"
      ]
     },
     "execution_count": 102,
     "metadata": {},
     "output_type": "execute_result"
    }
   ],
   "source": [
    "last_array"
   ]
  },
  {
   "cell_type": "code",
   "execution_count": 103,
   "id": "1bbb441a",
   "metadata": {},
   "outputs": [
    {
     "data": {
      "text/plain": [
       "29"
      ]
     },
     "execution_count": 103,
     "metadata": {},
     "output_type": "execute_result"
    }
   ],
   "source": [
    "np.max(last_array)"
   ]
  },
  {
   "cell_type": "code",
   "execution_count": 104,
   "id": "74e96e16",
   "metadata": {},
   "outputs": [
    {
     "data": {
      "text/plain": [
       "14.5"
      ]
     },
     "execution_count": 104,
     "metadata": {},
     "output_type": "execute_result"
    }
   ],
   "source": [
    "np.mean(last_array)"
   ]
  },
  {
   "cell_type": "code",
   "execution_count": 105,
   "id": "8d6fe6cb",
   "metadata": {},
   "outputs": [
    {
     "data": {
      "text/plain": [
       "array([0.        , 1.        , 1.41421356, 1.73205081, 2.        ,\n",
       "       2.23606798, 2.44948974, 2.64575131, 2.82842712, 3.        ,\n",
       "       3.16227766, 3.31662479, 3.46410162, 3.60555128, 3.74165739,\n",
       "       3.87298335, 4.        , 4.12310563, 4.24264069, 4.35889894,\n",
       "       4.47213595, 4.58257569, 4.69041576, 4.79583152, 4.89897949,\n",
       "       5.        , 5.09901951, 5.19615242, 5.29150262, 5.38516481])"
      ]
     },
     "execution_count": 105,
     "metadata": {},
     "output_type": "execute_result"
    }
   ],
   "source": [
    "np.sqrt(last_array)"
   ]
  },
  {
   "cell_type": "code",
   "execution_count": null,
   "id": "9b84ac41",
   "metadata": {},
   "outputs": [],
   "source": []
  }
 ],
 "metadata": {
  "kernelspec": {
   "display_name": "Python 3 (ipykernel)",
   "language": "python",
   "name": "python3"
  },
  "language_info": {
   "codemirror_mode": {
    "name": "ipython",
    "version": 3
   },
   "file_extension": ".py",
   "mimetype": "text/x-python",
   "name": "python",
   "nbconvert_exporter": "python",
   "pygments_lexer": "ipython3",
   "version": "3.11.4"
  }
 },
 "nbformat": 4,
 "nbformat_minor": 5
}
