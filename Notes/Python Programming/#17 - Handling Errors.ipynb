{
 "cells": [
  {
   "cell_type": "code",
   "execution_count": 1,
   "id": "410139e5",
   "metadata": {},
   "outputs": [
    {
     "name": "stdout",
     "output_type": "stream",
     "text": [
      "enter age: 35\n"
     ]
    }
   ],
   "source": [
    "age = input(\"enter age: \")"
   ]
  },
  {
   "cell_type": "code",
   "execution_count": 2,
   "id": "e4617cf3",
   "metadata": {},
   "outputs": [
    {
     "data": {
      "text/plain": [
       "'35'"
      ]
     },
     "execution_count": 2,
     "metadata": {},
     "output_type": "execute_result"
    }
   ],
   "source": [
    "age"
   ]
  },
  {
   "cell_type": "code",
   "execution_count": 4,
   "id": "d29e6b81",
   "metadata": {},
   "outputs": [
    {
     "data": {
      "text/plain": [
       "70"
      ]
     },
     "execution_count": 4,
     "metadata": {},
     "output_type": "execute_result"
    }
   ],
   "source": [
    "int(age) * 2"
   ]
  },
  {
   "cell_type": "code",
   "execution_count": 5,
   "id": "6ac6a516",
   "metadata": {},
   "outputs": [],
   "source": [
    "# try - except"
   ]
  },
  {
   "cell_type": "code",
   "execution_count": 9,
   "id": "441f3862",
   "metadata": {},
   "outputs": [
    {
     "name": "stdout",
     "output_type": "stream",
     "text": [
      "enter age: test\n",
      "enter your age!\n",
      "finally\n",
      "enter age: 18\n",
      "36\n",
      "else executed\n",
      "finally\n"
     ]
    }
   ],
   "source": [
    "while True:\n",
    "    try:\n",
    "        myAge = int(input(\"enter age: \"))\n",
    "        print(myAge * 2)\n",
    "        #break\n",
    "    except:\n",
    "        print(\"enter your age!\")\n",
    "    else:\n",
    "        print(\"else executed\")\n",
    "        break\n",
    "    finally:\n",
    "        print(\"finally\")"
   ]
  },
  {
   "cell_type": "code",
   "execution_count": null,
   "id": "4c2cf9b7",
   "metadata": {},
   "outputs": [],
   "source": []
  }
 ],
 "metadata": {
  "kernelspec": {
   "display_name": "Python 3 (ipykernel)",
   "language": "python",
   "name": "python3"
  },
  "language_info": {
   "codemirror_mode": {
    "name": "ipython",
    "version": 3
   },
   "file_extension": ".py",
   "mimetype": "text/x-python",
   "name": "python",
   "nbconvert_exporter": "python",
   "pygments_lexer": "ipython3",
   "version": "3.11.4"
  }
 },
 "nbformat": 4,
 "nbformat_minor": 5
}
